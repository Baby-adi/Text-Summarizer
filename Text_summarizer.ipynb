{
  "cells": [
    {
      "cell_type": "code",
      "execution_count": 26,
      "metadata": {
        "id": "ONqE5yRVjtJg"
      },
      "outputs": [],
      "source": [
        "from transformers import T5Tokenizer, T5ForConditionalGeneration"
      ]
    },
    {
      "cell_type": "code",
      "execution_count": 27,
      "metadata": {
        "id": "Dt1fNdOkkOvC"
      },
      "outputs": [],
      "source": [
        "model_name='t5-large'\n",
        "tokenizer = T5Tokenizer.from_pretrained(model_name)\n",
        "model = T5ForConditionalGeneration.from_pretrained(model_name)"
      ]
    },
    {
      "cell_type": "code",
      "execution_count": 29,
      "metadata": {
        "colab": {
          "base_uri": "https://localhost:8080/"
        },
        "id": "UWCl8Z4fp4u4",
        "outputId": "18ec16a7-f344-4fd6-da05-feb5c2330389"
      },
      "outputs": [
        {
          "name": "stdout",
          "output_type": "stream",
          "text": [
            "Enter the text you want to summarize: Renewable energy sources, such as solar and wind power, have become integral to reducing greenhouse gas emissions and combating climate change. However, their variable and intermittent nature poses challenges for integration into the power grid. Accurate forecasting of energy generation is essential to optimize grid operations and ensure a reliable energy supply. This study explores machine learning techniques for predicting daily solar and wind power output based on historical weather data. By utilizing algorithms like Random Forests and Gradient Boosting, the models achieve a significant improvement in predictive accuracy. These findings highlight the potential of data-driven approaches to enhance renewable energy management.\n"
          ]
        }
      ],
      "source": [
        "text = input(\"Enter the text you want to summarize: \")"
      ]
    },
    {
      "cell_type": "code",
      "execution_count": 30,
      "metadata": {
        "id": "tEk4JMnet-L3"
      },
      "outputs": [],
      "source": [
        "input_text = \"summarize: \"+text"
      ]
    },
    {
      "cell_type": "code",
      "execution_count": 31,
      "metadata": {
        "id": "vmknCw_zqCwW"
      },
      "outputs": [],
      "source": [
        "input_ids=tokenizer.encode(\n",
        "                    input_text,\n",
        "                    return_tensors='pt',\n",
        "                    max_length=1024,\n",
        "                    truncation=True\n",
        "                    )"
      ]
    },
    {
      "cell_type": "code",
      "execution_count": 32,
      "metadata": {
        "id": "WjEwgjspqUXk"
      },
      "outputs": [],
      "source": [
        "summary_ids=model.generate(\n",
        "                input_ids,\n",
        "                max_length=500,\n",
        "                min_length=100,\n",
        "                do_sample=True,         # Enable sampling\n",
        "                temperature=0.8,        # Control randomness\n",
        "                top_k=50,               # Consider the top 50 tokens at each step\n",
        "                top_p=0.9,              # Enable nucleus sampling\n",
        "                length_penalty=1.5,\n",
        "                num_beams=8,\n",
        "                repetition_penalty=2.0,\n",
        "                early_stopping=True\n",
        "    )"
      ]
    },
    {
      "cell_type": "code",
      "execution_count": 33,
      "metadata": {
        "id": "mmlTRpY0qjP1"
      },
      "outputs": [],
      "source": [
        "summary=tokenizer.decode(summary_ids[0],skip_special_tokens=True)"
      ]
    },
    {
      "cell_type": "code",
      "execution_count": 34,
      "metadata": {
        "colab": {
          "base_uri": "https://localhost:8080/"
        },
        "id": "l29K4byvqpkW",
        "outputId": "fcfbadcf-7e2e-4031-a61b-06838d301c4a"
      },
      "outputs": [
        {
          "name": "stdout",
          "output_type": "stream",
          "text": [
            "Summary:  this study explores machine learning techniques for predicting daily solar and wind power output based on historical weather data. by using algorithms like Random Forests and Gradient Boosting, the models achieve a significant improvement in predictive accuracy. these findings highlight the potential of data-driven approaches to enhance renewable energy management. research is expected to be conducted at the end of the year.\n"
          ]
        }
      ],
      "source": [
        "print(\"Summary: \",summary)"
      ]
    }
  ],
  "metadata": {
    "colab": {
      "provenance": []
    },
    "kernelspec": {
      "display_name": "Python 3",
      "name": "python3"
    },
    "language_info": {
      "name": "python"
    }
  },
  "nbformat": 4,
  "nbformat_minor": 0
}
